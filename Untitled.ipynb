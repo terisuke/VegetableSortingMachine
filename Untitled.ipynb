{
 "cells": [
  {
   "cell_type": "code",
   "execution_count": 3,
   "id": "dcc67294",
   "metadata": {},
   "outputs": [],
   "source": [
    "from PIL import Image\n",
    "import numpy as np\n",
    "import os, glob\n",
    "import sklearn.model_selection as cross_validation\n",
    "\n",
    "classes = [\"cabbage\", \"chinesecabbage\", \"lettuce\"]\n",
    "num_classes = len(classes)\n",
    "image_size = 50\n",
    "\n",
    "# 画像の読み込み\n",
    "X = []\n",
    "Y = []\n",
    "for index, classlabel in enumerate(classes):\n",
    "    photos_dir = \"./\" + classlabel\n",
    "    files = glob.glob(photos_dir + \"/*.jpg\")\n",
    "    for i, file in enumerate(files):\n",
    "        if i >= 64: break\n",
    "        image = Image.open(file)\n",
    "        image = image.convert(\"RGB\")\n",
    "        image = image.resize((image_size, image_size))\n",
    "        data = np.asarray(image)\n",
    "        X.append(data)\n",
    "        Y.append(index)\n",
    "\n",
    "X = np.array(X)\n",
    "Y = np.array(Y)\n"
   ]
  },
  {
   "cell_type": "code",
   "execution_count": 4,
   "id": "217c6917",
   "metadata": {},
   "outputs": [
    {
     "data": {
      "text/plain": [
       "array([[[227, 135, 157],\n",
       "        [246, 188, 191],\n",
       "        [243, 205, 196],\n",
       "        ...,\n",
       "        [207, 165, 160],\n",
       "        [ 92,  59,  66],\n",
       "        [104,  48,  74]],\n",
       "\n",
       "       [[231, 160, 174],\n",
       "        [244, 203, 199],\n",
       "        [241, 176, 180],\n",
       "        ...,\n",
       "        [138,  94, 107],\n",
       "        [ 62,  26,  44],\n",
       "        [145,  59, 102]],\n",
       "\n",
       "       [[239, 186, 195],\n",
       "        [231, 156, 170],\n",
       "        [235, 137, 165],\n",
       "        ...,\n",
       "        [ 95,  63,  65],\n",
       "        [ 99,  38,  64],\n",
       "        [151,  54, 101]],\n",
       "\n",
       "       ...,\n",
       "\n",
       "       [[164,  38,  98],\n",
       "        [134,  40,  83],\n",
       "        [121,  41,  79],\n",
       "        ...,\n",
       "        [189,  72, 129],\n",
       "        [187,  66, 136],\n",
       "        [179,  56, 136]],\n",
       "\n",
       "       [[132,  35,  80],\n",
       "        [114,  29,  66],\n",
       "        [105,  33,  67],\n",
       "        ...,\n",
       "        [210, 105, 148],\n",
       "        [188,  70, 128],\n",
       "        [164,  45, 108]],\n",
       "\n",
       "       [[123,  31,  72],\n",
       "        [123,  33,  70],\n",
       "        [100,  30,  61],\n",
       "        ...,\n",
       "        [205, 106, 155],\n",
       "        [179,  68, 134],\n",
       "        [152,  44, 105]]], dtype=uint8)"
      ]
     },
     "execution_count": 4,
     "metadata": {},
     "output_type": "execute_result"
    }
   ],
   "source": [
    "X[0]"
   ]
  },
  {
   "cell_type": "code",
   "execution_count": 5,
   "id": "4c413168",
   "metadata": {},
   "outputs": [
    {
     "data": {
      "text/plain": [
       "191"
      ]
     },
     "execution_count": 5,
     "metadata": {},
     "output_type": "execute_result"
    }
   ],
   "source": [
    "len(X)"
   ]
  },
  {
   "cell_type": "code",
   "execution_count": 6,
   "id": "23ab583c",
   "metadata": {},
   "outputs": [
    {
     "data": {
      "text/plain": [
       "1"
      ]
     },
     "execution_count": 6,
     "metadata": {},
     "output_type": "execute_result"
    }
   ],
   "source": [
    "Y[100]"
   ]
  },
  {
   "cell_type": "code",
   "execution_count": 7,
   "id": "9cb3a87d",
   "metadata": {},
   "outputs": [
    {
     "data": {
      "text/plain": [
       "1"
      ]
     },
     "execution_count": 7,
     "metadata": {},
     "output_type": "execute_result"
    }
   ],
   "source": [
    "Y[64]"
   ]
  },
  {
   "cell_type": "code",
   "execution_count": 8,
   "id": "67ce1153",
   "metadata": {},
   "outputs": [
    {
     "ename": "IndexError",
     "evalue": "index 191 is out of bounds for axis 0 with size 191",
     "output_type": "error",
     "traceback": [
      "\u001b[0;31m---------------------------------------------------------------------------\u001b[0m",
      "\u001b[0;31mIndexError\u001b[0m                                Traceback (most recent call last)",
      "Cell \u001b[0;32mIn[8], line 1\u001b[0m\n\u001b[0;32m----> 1\u001b[0m Y[\u001b[38;5;241m191\u001b[39m]\n",
      "\u001b[0;31mIndexError\u001b[0m: index 191 is out of bounds for axis 0 with size 191"
     ]
    }
   ],
   "source": [
    "Y[191]"
   ]
  },
  {
   "cell_type": "code",
   "execution_count": null,
   "id": "a7d8c126",
   "metadata": {},
   "outputs": [],
   "source": []
  }
 ],
 "metadata": {
  "kernelspec": {
   "display_name": "Python 3 (ipykernel)",
   "language": "python",
   "name": "python3"
  },
  "language_info": {
   "codemirror_mode": {
    "name": "ipython",
    "version": 3
   },
   "file_extension": ".py",
   "mimetype": "text/x-python",
   "name": "python",
   "nbconvert_exporter": "python",
   "pygments_lexer": "ipython3",
   "version": "3.11.5"
  }
 },
 "nbformat": 4,
 "nbformat_minor": 5
}
